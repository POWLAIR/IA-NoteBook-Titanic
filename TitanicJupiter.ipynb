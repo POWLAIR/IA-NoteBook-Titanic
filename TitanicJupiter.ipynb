{
 "cells": [
  {
   "cell_type": "markdown",
   "id": "1c5627aa-e385-43dc-b532-732d0c518927",
   "metadata": {},
   "source": [
    "# Titanic Analysis"
   ]
  },
  {
   "cell_type": "markdown",
   "id": "bd81eccd-3348-4924-904e-ece8e146a002",
   "metadata": {},
   "source": [
    "## Importation des bibliothèques nécessaires"
   ]
  },
  {
   "cell_type": "code",
   "execution_count": 76,
   "id": "c5c33b83-d41b-45b6-8690-3cfa21f332be",
   "metadata": {},
   "outputs": [],
   "source": [
    "import pandas as pd\n",
    "import matplotlib.pyplot as plt\n",
    "import seaborn as sns"
   ]
  },
  {
   "cell_type": "markdown",
   "id": "3acc83ed-d678-4076-944d-5ffff0ab1776",
   "metadata": {},
   "source": [
    "## Chamrgement des données"
   ]
  },
  {
   "cell_type": "code",
   "execution_count": 77,
   "id": "1318480a-a2bc-4b0b-be0b-9ca0dab711ef",
   "metadata": {},
   "outputs": [],
   "source": [
    "file_path = 'data/data.csv'\n",
    "dataset = pd.read_csv(file_path)"
   ]
  },
  {
   "cell_type": "markdown",
   "id": "a87887e2-23b6-47e3-b4d9-7808cd66ba9f",
   "metadata": {},
   "source": [
    "### Affichage des premières lignes des données"
   ]
  },
  {
   "cell_type": "code",
   "execution_count": 78,
   "id": "d828466f-ee84-4822-8aa3-0e96dbb0247b",
   "metadata": {},
   "outputs": [
    {
     "name": "stdout",
     "output_type": "stream",
     "text": [
      "\n",
      "Premières lignes du dataset :\n",
      "\n",
      "   Unnamed: 0  PassengerId  Survived  Pclass  \\\n",
      "0           0            1         0       3   \n",
      "1           1            2         1       1   \n",
      "2           2            3         1       3   \n",
      "3           3            4         1       1   \n",
      "4           4            5         0       3   \n",
      "\n",
      "                                                Name     Sex   Age  SibSp  \\\n",
      "0                            Braund, Mr. Owen Harris    male  22.0      1   \n",
      "1  Cumings, Mrs. John Bradley (Florence Briggs Th...  female  38.0      1   \n",
      "2                             Heikkinen, Miss. Laina  female  26.0      0   \n",
      "3       Futrelle, Mrs. Jacques Heath (Lily May Peel)  female  35.0      1   \n",
      "4                           Allen, Mr. William Henry    male  35.0      0   \n",
      "\n",
      "   Parch            Ticket     Fare Cabin Embarked  \n",
      "0      0         A/5 21171   7.2500   NaN        S  \n",
      "1      0          PC 17599  71.2833   C85        C  \n",
      "2      0  STON/O2. 3101282   7.9250   NaN        S  \n",
      "3      0            113803  53.1000  C123        S  \n",
      "4      0            373450   8.0500   NaN        S  \n"
     ]
    }
   ],
   "source": [
    "print(\"\\nPremières lignes du dataset :\\n\")\n",
    "print(dataset.head())"
   ]
  },
  {
   "cell_type": "markdown",
   "id": "8ac346de-8c5f-482d-b589-1dd0b8e897eb",
   "metadata": {},
   "source": [
    "### Informations générales sur le dataset"
   ]
  },
  {
   "cell_type": "code",
   "execution_count": 79,
   "id": "66a1b9c7-038d-45ab-929a-e0c2ce490a87",
   "metadata": {},
   "outputs": [
    {
     "name": "stdout",
     "output_type": "stream",
     "text": [
      "\n",
      "Informations sur le dataset :\n",
      "\n",
      "<class 'pandas.core.frame.DataFrame'>\n",
      "RangeIndex: 886 entries, 0 to 885\n",
      "Data columns (total 13 columns):\n",
      " #   Column       Non-Null Count  Dtype  \n",
      "---  ------       --------------  -----  \n",
      " 0   Unnamed: 0   886 non-null    int64  \n",
      " 1   PassengerId  886 non-null    int64  \n",
      " 2   Survived     886 non-null    int64  \n",
      " 3   Pclass       886 non-null    int64  \n",
      " 4   Name         886 non-null    object \n",
      " 5   Sex          886 non-null    object \n",
      " 6   Age          709 non-null    float64\n",
      " 7   SibSp        886 non-null    int64  \n",
      " 8   Parch        886 non-null    int64  \n",
      " 9   Ticket       886 non-null    object \n",
      " 10  Fare         886 non-null    float64\n",
      " 11  Cabin        202 non-null    object \n",
      " 12  Embarked     884 non-null    object \n",
      "dtypes: float64(2), int64(6), object(5)\n",
      "memory usage: 90.1+ KB\n",
      "None\n"
     ]
    }
   ],
   "source": [
    "print(\"\\nInformations sur le dataset :\\n\")\n",
    "print(dataset.info())"
   ]
  },
  {
   "cell_type": "markdown",
   "id": "2ac5c6d6-82ad-4089-aa82-8a74685ef821",
   "metadata": {},
   "source": [
    "### Statistiques descriptives"
   ]
  },
  {
   "cell_type": "code",
   "execution_count": 80,
   "id": "1ae029cd-af8d-49fd-8c5d-1628304a4ce9",
   "metadata": {},
   "outputs": [
    {
     "name": "stdout",
     "output_type": "stream",
     "text": [
      "\n",
      "Statistiques descriptives :\n",
      "\n",
      "       Unnamed: 0  PassengerId    Survived      Pclass         Age  \\\n",
      "count  886.000000   886.000000  886.000000  886.000000  709.000000   \n",
      "mean   445.860045   446.860045    0.383747    2.309255   29.677250   \n",
      "std    256.647193   256.647193    0.486572    0.836501   14.555826   \n",
      "min      0.000000     1.000000    0.000000    1.000000    0.420000   \n",
      "25%    224.250000   225.250000    0.000000    2.000000   20.000000   \n",
      "50%    446.500000   447.500000    0.000000    3.000000   28.000000   \n",
      "75%    667.750000   668.750000    1.000000    3.000000   38.000000   \n",
      "max    890.000000   891.000000    1.000000    3.000000   80.000000   \n",
      "\n",
      "            SibSp       Parch        Fare  \n",
      "count  886.000000  886.000000  886.000000  \n",
      "mean     0.524831    0.383747   32.249044  \n",
      "std      1.105177    0.807819   49.790784  \n",
      "min      0.000000    0.000000    0.000000  \n",
      "25%      0.000000    0.000000    7.895800  \n",
      "50%      0.000000    0.000000   14.456250  \n",
      "75%      1.000000    0.000000   31.000000  \n",
      "max      8.000000    6.000000  512.329200  \n"
     ]
    }
   ],
   "source": [
    "print(\"\\nStatistiques descriptives :\\n\")\n",
    "print(dataset.describe())"
   ]
  },
  {
   "cell_type": "markdown",
   "id": "524f5992-5402-4d03-a88a-ddb67c7c3dfb",
   "metadata": {},
   "source": [
    "### Documentation des colonnes"
   ]
  },
  {
   "cell_type": "code",
   "execution_count": 81,
   "id": "533e6ab1-6f8d-4037-9378-4a23513e8e33",
   "metadata": {},
   "outputs": [
    {
     "name": "stdout",
     "output_type": "stream",
     "text": [
      "\n",
      "Documentation des colonnes :\n",
      "\n",
      "- PassengerId: Identifiant unique du passager\n",
      "- Survived: Indique si le passager a survécu (1) ou non (0)\n",
      "- Pclass: Classe du billet (1 = Première, 2 = Deuxième, 3 = Troisième)\n",
      "- Name: Nom complet du passager\n",
      "- Sex: Genre du passager\n",
      "- Age: Âge du passager\n",
      "- SibSp: Nombre de frères/soeurs/conjoints à bord\n",
      "- Parch: Nombre de parents/enfants à bord\n",
      "- Ticket: Numéro du billet\n",
      "- Fare: Tarif payé pour le billet\n",
      "- Cabin: Numéro de cabine (s'il est disponible)\n",
      "- Embarked: Port d'embarquement (C = Cherbourg, Q = Queenstown, S = Southampton)\n"
     ]
    }
   ],
   "source": [
    "columns_info = {\n",
    "    'PassengerId': \"Identifiant unique du passager\",\n",
    "    'Survived': \"Indique si le passager a survécu (1) ou non (0)\",\n",
    "    'Pclass': \"Classe du billet (1 = Première, 2 = Deuxième, 3 = Troisième)\",\n",
    "    'Name': \"Nom complet du passager\",\n",
    "    'Sex': \"Genre du passager\",\n",
    "    'Age': \"Âge du passager\",\n",
    "    'SibSp': \"Nombre de frères/soeurs/conjoints à bord\",\n",
    "    'Parch': \"Nombre de parents/enfants à bord\",\n",
    "    'Ticket': \"Numéro du billet\",\n",
    "    'Fare': \"Tarif payé pour le billet\",\n",
    "    'Cabin': \"Numéro de cabine (s'il est disponible)\",\n",
    "    'Embarked': \"Port d'embarquement (C = Cherbourg, Q = Queenstown, S = Southampton)\"\n",
    "}\n",
    "print(\"\\nDocumentation des colonnes :\\n\")\n",
    "for column, description in columns_info.items():\n",
    "    print(f\"- {column}: {description}\")"
   ]
  },
  {
   "cell_type": "markdown",
   "id": "ce9f0d43-884b-468d-81a1-7dc9b0d637a5",
   "metadata": {},
   "source": [
    "## Visualisation des données\n",
    "\n",
    "****Création des graphiques**** :"
   ]
  },
  {
   "cell_type": "markdown",
   "id": "2dd1df3f-ff5f-4814-9a62-9c2453e958b1",
   "metadata": {},
   "source": [
    "### Graphique 1 : Répartition des survivants par sexe"
   ]
  },
  {
   "cell_type": "code",
   "execution_count": 82,
   "id": "0dc64a2b-2bad-432a-ada3-a7e2b488f14c",
   "metadata": {},
   "outputs": [
    {
     "data": {
      "image/png": "[encoded data removed]",
      "text/plain": [
       "<Figure size 800x600 with 1 Axes>"
      ]
     },
     "metadata": {},
     "output_type": "display_data"
    }
   ],
   "source": [
    "plt.figure(figsize=(8, 6))\n",
    "sns.countplot(data=dataset, x='Survived', hue='Sex')\n",
    "plt.title(\"Répartition des survivants par sexe\")\n",
    "plt.xlabel(\"Survie (0 = Non, 1 = Oui)\")\n",
    "plt.ylabel(\"Nombre de passagers\")\n",
    "plt.legend(title=\"Sexe\", labels=['Homme', 'Femme'])\n",
    "plt.show()"
   ]
  },
  {
   "cell_type": "markdown",
   "id": "6539c9d5-2161-46a1-b8ed-15ebea3febb4",
   "metadata": {},
   "source": [
    "#### Explication du graphique 1\n",
    "\n",
    "**Explication** : Le graphique montre que les femmes ont survécu en plus grand nombre que les hommes. Cela peut refléter des priorités de secours lors de l'évacuation, où les femmes et les enfants étaient souvent priorisés."
   ]
  },
  {
   "cell_type": "markdown",
   "id": "c52c5a6e-c2f7-44c4-8177-64087a246338",
   "metadata": {},
   "source": [
    "### Graphique 2 : Distribution des âges"
   ]
  },
  {
   "cell_type": "code",
   "execution_count": 83,
   "id": "39e97694-c04a-476e-b3fc-fd7dbe4831da",
   "metadata": {},
   "outputs": [
    {
     "data": {
      "image/png": "[encoded data removed]",
      "text/plain": [
       "<Figure size 800x600 with 1 Axes>"
      ]
     },
     "metadata": {},
     "output_type": "display_data"
    }
   ],
   "source": [
    "plt.figure(figsize=(8, 6))\n",
    "dataset['Age'].dropna().plot(kind='hist', bins=20, color='skyblue', edgecolor='black')\n",
    "plt.title(\"Distribution des âges des passagers\")\n",
    "plt.xlabel(\"Âge\")\n",
    "plt.ylabel(\"Nombre de passagers\")\n",
    "plt.show()"
   ]
  },
  {
   "cell_type": "markdown",
   "id": "0974c738-6b32-4b7f-9e5e-84493d52bd0c",
   "metadata": {},
   "source": [
    "#### Explication du graphique 2\n",
    "\n",
    "**Explication** : La répartition montre que la troisième classe contient le plus grand nombre de passagers, suivie par la première et la deuxième. Cela peut refléter la diversité des profils socio-économiques à bord du Titanic."
   ]
  },
  {
   "cell_type": "markdown",
   "id": "f5175e70-ff35-4d90-9802-5bcaf204b366",
   "metadata": {},
   "source": [
    "### Graphique 3 : Répartition des classes"
   ]
  },
  {
   "cell_type": "code",
   "execution_count": 84,
   "id": "213aef2c-5d5f-4f21-b4c3-f555b2360b00",
   "metadata": {},
   "outputs": [
    {
     "data": {
      "image/png": "[encoded data removed]",
      "text/plain": [
       "<Figure size 800x600 with 1 Axes>"
      ]
     },
     "metadata": {},
     "output_type": "display_data"
    }
   ],
   "source": [
    "plt.figure(figsize=(8, 6))\n",
    "sns.countplot(data=dataset, x='Pclass', hue='Pclass', palette='viridis', legend=False)\n",
    "plt.title(\"Répartition des passagers par classe\")\n",
    "plt.xlabel(\"Classe (1 = Première, 2 = Deuxième, 3 = Troisième)\")\n",
    "plt.ylabel(\"Nombre de passagers\")\n",
    "plt.show()"
   ]
  },
  {
   "cell_type": "markdown",
   "id": "514a37b7-94ed-4cd4-beda-c192ca9d5140",
   "metadata": {
    "jp-MarkdownHeadingCollapsed": true
   },
   "source": [
    "#### Explication du graphique 3\n",
    "\n",
    "**Explication** : La répartition montre que la troisième classe contient le plus grand nombre de passagers, suivie par la première et la deuxième. Cela peut refléter la diversité des profils socio-économiques à bord du Titanic."
   ]
  },
  {
   "cell_type": "markdown",
   "id": "efee251f-9a9f-4f30-a26e-88137a0fc192",
   "metadata": {},
   "source": [
    "### Observations des graphiques"
   ]
  },
  {
   "cell_type": "markdown",
   "id": "449df706-18eb-4160-9940-cf1c7759db9f",
   "metadata": {},
   "source": [
    "1. Répartition des survivants par sexe : Les femmes ont survécu en plus grand nombre que les hommes, \n",
    "   ce qui reflète potentiellement les priorités lors de l'évacuation.\n",
    "2. Distribution des âges : La majorité des passagers avaient entre 20 et 40 ans, mais on observe également\n",
    "   des enfants et des personnes âgées.\n",
    "3. Répartition des classes : La troisième classe contient le plus grand nombre de passagers, \n",
    "   tandis que la première classe est la moins représentée."
   ]
  },
  {
   "cell_type": "markdown",
   "id": "ff2eed29-7c61-4196-82fe-dde25e8e4a4e",
   "metadata": {},
   "source": [
    "## Préparation des données pour le Machine Learning"
   ]
  },
  {
   "cell_type": "code",
   "execution_count": 85,
   "id": "2e4dbbf6-03b9-4add-aae8-7dad18446cfd",
   "metadata": {},
   "outputs": [],
   "source": [
    "from sklearn.preprocessing import LabelEncoder"
   ]
  },
  {
   "cell_type": "markdown",
   "id": "db07d867-e0d3-4973-8d1a-8e9d1ada4fb2",
   "metadata": {},
   "source": [
    "### Gestion des valeurs manquantes"
   ]
  },
  {
   "cell_type": "code",
   "execution_count": 86,
   "id": "9f9428f7-a557-4f3c-a8ed-0b4f9f360522",
   "metadata": {},
   "outputs": [],
   "source": [
    "dataset['Age'] = dataset['Age'].fillna(dataset['Age'].median())  # Imputation de l'âge par la médiane\n",
    "dataset['Embarked'] = dataset['Embarked'].fillna(dataset['Embarked'].mode()[0])  # Imputation du port d'embarquement par la valeur la plus fréquente"
   ]
  },
  {
   "cell_type": "markdown",
   "id": "59ef1ff7-b321-4b51-b728-86cd8fed4bf7",
   "metadata": {},
   "source": [
    "### Encodage des variables catégorielles"
   ]
  },
  {
   "cell_type": "code",
   "execution_count": 87,
   "id": "90e4c828-133c-4941-9dcd-a7ee0d07d7f5",
   "metadata": {},
   "outputs": [],
   "source": [
    "label_encoder = LabelEncoder()\n",
    "dataset['Sex'] = label_encoder.fit_transform(dataset['Sex'])  # Encodage de 'Sex' (0 = femme, 1 = homme)\n",
    "dataset = pd.get_dummies(dataset, columns=['Embarked'], drop_first=True)  # Encodage one-hot de 'Embarked'"
   ]
  },
  {
   "cell_type": "markdown",
   "id": "e2d5405c-8877-41db-917a-00a12c81eef0",
   "metadata": {},
   "source": [
    "### Suppression des colonnes non pertinentes pour le modèle"
   ]
  },
  {
   "cell_type": "code",
   "execution_count": 88,
   "id": "50100389-9dd7-4ee3-b392-a236d978b212",
   "metadata": {},
   "outputs": [],
   "source": [
    "dataset.drop(['PassengerId', 'Name', 'Ticket', 'Cabin'], axis=1, inplace=True)"
   ]
  },
  {
   "cell_type": "markdown",
   "id": "748ed94e-73bb-4b8f-9dae-bdb75acccf58",
   "metadata": {},
   "source": [
    "### Résumé des transformations"
   ]
  },
  {
   "cell_type": "code",
   "execution_count": 89,
   "id": "91d861ba-a7d8-4656-bd39-34bc4b2a8866",
   "metadata": {},
   "outputs": [
    {
     "name": "stdout",
     "output_type": "stream",
     "text": [
      "\n",
      "Dataset après transformation :\n",
      "\n",
      "   Unnamed: 0  Survived  Pclass  Sex   Age  SibSp  Parch     Fare  Embarked_Q  \\\n",
      "0           0         0       3    1  22.0      1      0   7.2500       False   \n",
      "1           1         1       1    0  38.0      1      0  71.2833       False   \n",
      "2           2         1       3    0  26.0      0      0   7.9250       False   \n",
      "3           3         1       1    0  35.0      1      0  53.1000       False   \n",
      "4           4         0       3    1  35.0      0      0   8.0500       False   \n",
      "\n",
      "   Embarked_S  \n",
      "0        True  \n",
      "1       False  \n",
      "2        True  \n",
      "3        True  \n",
      "4        True  \n"
     ]
    }
   ],
   "source": [
    "print(\"\\nDataset après transformation :\\n\")\n",
    "print(dataset.head())"
   ]
  },
  {
   "cell_type": "markdown",
   "id": "0a0ed5af-c263-4621-9780-e262c6515555",
   "metadata": {},
   "source": [
    "#### Commentaires sur les transformations"
   ]
  },
  {
   "cell_type": "markdown",
   "id": "3dbd82e8-d925-4e09-bacd-2eebe028b676",
   "metadata": {},
   "source": [
    "1. Les valeurs manquantes dans 'Age' ont été remplacées par la médiane pour éviter de biaiser les données.\n",
    "2. Les valeurs manquantes dans 'Embarked' ont été remplacées par la valeur la plus fréquente (mode).\n",
    "3. La variable 'Sex' a été transformée en une valeur numérique (0 = femme, 1 = homme) pour être utilisable par les algorithmes.\n",
    "4. Les variables catégorielles comme 'Embarked' ont été encodées avec une méthode one-hot, ce qui évite de créer une hiérarchie artificielle.\n",
    "5. Les colonnes non pertinentes comme 'PassengerId', 'Name', 'Ticket', et 'Cabin' ont été supprimées car elles n'apportent pas d'information utile pour la prédiction.\n",
    "6. Le dataset contient désormais des colonnes binaires ou numériques uniquement, prêtes pour un algorithme de Machine Learning."
   ]
  },
  {
   "cell_type": "code",
   "execution_count": 90,
   "id": "395c8037-8364-401a-83ac-1ce5a587948f",
   "metadata": {},
   "outputs": [],
   "source": [
    "from sklearn.model_selection import train_test_split\n",
    "from sklearn.ensemble import RandomForestClassifier\n",
    "from sklearn.metrics import accuracy_score, classification_report"
   ]
  },
  {
   "cell_type": "markdown",
   "id": "ec3dd26c-1a8f-4c69-9064-59470d5440f8",
   "metadata": {},
   "source": [
    "## Division des données en ensembles d'entraînement et de test"
   ]
  },
  {
   "cell_type": "code",
   "execution_count": 91,
   "id": "cbd4cdd9-0083-4a12-9093-39c3a1089d50",
   "metadata": {},
   "outputs": [],
   "source": [
    "X = dataset.drop('Survived', axis=1)  # Caractéristiques\n",
    "y = dataset['Survived']  # Cible\n",
    "X_train, X_test, y_train, y_test = train_test_split(X, y, test_size=0.2, random_state=42)\n"
   ]
  },
  {
   "cell_type": "markdown",
   "id": "4391959f-d597-4b23-a121-e75b9a1776cc",
   "metadata": {},
   "source": [
    "### Entraînement du modèle avec Random Forest"
   ]
  },
  {
   "cell_type": "code",
   "execution_count": 92,
   "id": "5200c185-0506-4c01-9da9-8ddf1d0d5592",
   "metadata": {},
   "outputs": [
    {
     "data": {
      "text/html": [
       "<style>#sk-container-id-3 {\n",
       "  /* Definition of color scheme common for light and dark mode */\n",
       "  --sklearn-color-text: black;\n",
       "  --sklearn-color-line: gray;\n",
       "  /* Definition of color scheme for unfitted estimators */\n",
       "  --sklearn-color-unfitted-level-0: #fff5e6;\n",
       "  --sklearn-color-unfitted-level-1: #f6e4d2;\n",
       "  --sklearn-color-unfitted-level-2: #ffe0b3;\n",
       "  --sklearn-color-unfitted-level-3: chocolate;\n",
       "  /* Definition of color scheme for fitted estimators */\n",
       "  --sklearn-color-fitted-level-0: #f0f8ff;\n",
       "  --sklearn-color-fitted-level-1: #d4ebff;\n",
       "  --sklearn-color-fitted-level-2: #b3dbfd;\n",
       "  --sklearn-color-fitted-level-3: cornflowerblue;\n",
       "\n",
       "  /* Specific color for light theme */\n",
       "  --sklearn-color-text-on-default-background: var(--sg-text-color, var(--theme-code-foreground, var(--jp-content-font-color1, black)));\n",
       "  --sklearn-color-background: var(--sg-background-color, var(--theme-background, var(--jp-layout-color0, white)));\n",
       "  --sklearn-color-border-box: var(--sg-text-color, var(--theme-code-foreground, var(--jp-content-font-color1, black)));\n",
       "  --sklearn-color-icon: #696969;\n",
       "\n",
       "  @media (prefers-color-scheme: dark) {\n",
       "    /* Redefinition of color scheme for dark theme */\n",
       "    --sklearn-color-text-on-default-background: var(--sg-text-color, var(--theme-code-foreground, var(--jp-content-font-color1, white)));\n",
       "    --sklearn-color-background: var(--sg-background-color, var(--theme-background, var(--jp-layout-color0, #111)));\n",
       "    --sklearn-color-border-box: var(--sg-text-color, var(--theme-code-foreground, var(--jp-content-font-color1, white)));\n",
       "    --sklearn-color-icon: #878787;\n",
       "  }\n",
       "}\n",
       "\n",
       "#sk-container-id-3 {\n",
       "  color: var(--sklearn-color-text);\n",
       "}\n",
       "\n",
       "#sk-container-id-3 pre {\n",
       "  padding: 0;\n",
       "}\n",
       "\n",
       "#sk-container-id-3 input.sk-hidden--visually {\n",
       "  border: 0;\n",
       "  clip: rect(1px 1px 1px 1px);\n",
       "  clip: rect(1px, 1px, 1px, 1px);\n",
       "  height: 1px;\n",
       "  margin: -1px;\n",
       "  overflow: hidden;\n",
       "  padding: 0;\n",
       "  position: absolute;\n",
       "  width: 1px;\n",
       "}\n",
       "\n",
       "#sk-container-id-3 div.sk-dashed-wrapped {\n",
       "  border: 1px dashed var(--sklearn-color-line);\n",
       "  margin: 0 0.4em 0.5em 0.4em;\n",
       "  box-sizing: border-box;\n",
       "  padding-bottom: 0.4em;\n",
       "  background-color: var(--sklearn-color-background);\n",
       "}\n",
       "\n",
       "#sk-container-id-3 div.sk-container {\n",
       "  /* jupyter's `normalize.less` sets `[hidden] { display: none; }`\n",
       "     but bootstrap.min.css set `[hidden] { display: none !important; }`\n",
       "     so we also need the `!important` here to be able to override the\n",
       "     default hidden behavior on the sphinx rendered scikit-learn.org.\n",
       "     See: https://github.com/scikit-learn/scikit-learn/issues/21755 */\n",
       "  display: inline-block !important;\n",
       "  position: relative;\n",
       "}\n",
       "\n",
       "#sk-container-id-3 div.sk-text-repr-fallback {\n",
       "  display: none;\n",
       "}\n",
       "\n",
       "div.sk-parallel-item,\n",
       "div.sk-serial,\n",
       "div.sk-item {\n",
       "  /* draw centered vertical line to link estimators */\n",
       "  background-image: linear-gradient(var(--sklearn-color-text-on-default-background), var(--sklearn-color-text-on-default-background));\n",
       "  background-size: 2px 100%;\n",
       "  background-repeat: no-repeat;\n",
       "  background-position: center center;\n",
       "}\n",
       "\n",
       "/* Parallel-specific style estimator block */\n",
       "\n",
       "#sk-container-id-3 div.sk-parallel-item::after {\n",
       "  content: \"\";\n",
       "  width: 100%;\n",
       "  border-bottom: 2px solid var(--sklearn-color-text-on-default-background);\n",
       "  flex-grow: 1;\n",
       "}\n",
       "\n",
       "#sk-container-id-3 div.sk-parallel {\n",
       "  display: flex;\n",
       "  align-items: stretch;\n",
       "  justify-content: center;\n",
       "  background-color: var(--sklearn-color-background);\n",
       "  position: relative;\n",
       "}\n",
       "\n",
       "#sk-container-id-3 div.sk-parallel-item {\n",
       "  display: flex;\n",
       "  flex-direction: column;\n",
       "}\n",
       "\n",
       "#sk-container-id-3 div.sk-parallel-item:first-child::after {\n",
       "  align-self: flex-end;\n",
       "  width: 50%;\n",
       "}\n",
       "\n",
       "#sk-container-id-3 div.sk-parallel-item:last-child::after {\n",
       "  align-self: flex-start;\n",
       "  width: 50%;\n",
       "}\n",
       "\n",
       "#sk-container-id-3 div.sk-parallel-item:only-child::after {\n",
       "  width: 0;\n",
       "}\n",
       "\n",
       "/* Serial-specific style estimator block */\n",
       "\n",
       "#sk-container-id-3 div.sk-serial {\n",
       "  display: flex;\n",
       "  flex-direction: column;\n",
       "  align-items: center;\n",
       "  background-color: var(--sklearn-color-background);\n",
       "  padding-right: 1em;\n",
       "  padding-left: 1em;\n",
       "}\n",
       "\n",
       "\n",
       "/* Toggleable style: style used for estimator/Pipeline/ColumnTransformer box that is\n",
       "clickable and can be expanded/collapsed.\n",
       "- Pipeline and ColumnTransformer use this feature and define the default style\n",
       "- Estimators will overwrite some part of the style using the `sk-estimator` class\n",
       "*/\n",
       "\n",
       "/* Pipeline and ColumnTransformer style (default) */\n",
       "\n",
       "#sk-container-id-3 div.sk-toggleable {\n",
       "  /* Default theme specific background. It is overwritten whether we have a\n",
       "  specific estimator or a Pipeline/ColumnTransformer */\n",
       "  background-color: var(--sklearn-color-background);\n",
       "}\n",
       "\n",
       "/* Toggleable label */\n",
       "#sk-container-id-3 label.sk-toggleable__label {\n",
       "  cursor: pointer;\n",
       "  display: block;\n",
       "  width: 100%;\n",
       "  margin-bottom: 0;\n",
       "  padding: 0.5em;\n",
       "  box-sizing: border-box;\n",
       "  text-align: center;\n",
       "}\n",
       "\n",
       "#sk-container-id-3 label.sk-toggleable__label-arrow:before {\n",
       "  /* Arrow on the left of the label */\n",
       "  content: \"▸\";\n",
       "  float: left;\n",
       "  margin-right: 0.25em;\n",
       "  color: var(--sklearn-color-icon);\n",
       "}\n",
       "\n",
       "#sk-container-id-3 label.sk-toggleable__label-arrow:hover:before {\n",
       "  color: var(--sklearn-color-text);\n",
       "}\n",
       "\n",
       "/* Toggleable content - dropdown */\n",
       "\n",
       "#sk-container-id-3 div.sk-toggleable__content {\n",
       "  max-height: 0;\n",
       "  max-width: 0;\n",
       "  overflow: hidden;\n",
       "  text-align: left;\n",
       "  /* unfitted */\n",
       "  background-color: var(--sklearn-color-unfitted-level-0);\n",
       "}\n",
       "\n",
       "#sk-container-id-3 div.sk-toggleable__content.fitted {\n",
       "  /* fitted */\n",
       "  background-color: var(--sklearn-color-fitted-level-0);\n",
       "}\n",
       "\n",
       "#sk-container-id-3 div.sk-toggleable__content pre {\n",
       "  margin: 0.2em;\n",
       "  border-radius: 0.25em;\n",
       "  color: var(--sklearn-color-text);\n",
       "  /* unfitted */\n",
       "  background-color: var(--sklearn-color-unfitted-level-0);\n",
       "}\n",
       "\n",
       "#sk-container-id-3 div.sk-toggleable__content.fitted pre {\n",
       "  /* unfitted */\n",
       "  background-color: var(--sklearn-color-fitted-level-0);\n",
       "}\n",
       "\n",
       "#sk-container-id-3 input.sk-toggleable__control:checked~div.sk-toggleable__content {\n",
       "  /* Expand drop-down */\n",
       "  max-height: 200px;\n",
       "  max-width: 100%;\n",
       "  overflow: auto;\n",
       "}\n",
       "\n",
       "#sk-container-id-3 input.sk-toggleable__control:checked~label.sk-toggleable__label-arrow:before {\n",
       "  content: \"▾\";\n",
       "}\n",
       "\n",
       "/* Pipeline/ColumnTransformer-specific style */\n",
       "\n",
       "#sk-container-id-3 div.sk-label input.sk-toggleable__control:checked~label.sk-toggleable__label {\n",
       "  color: var(--sklearn-color-text);\n",
       "  background-color: var(--sklearn-color-unfitted-level-2);\n",
       "}\n",
       "\n",
       "#sk-container-id-3 div.sk-label.fitted input.sk-toggleable__control:checked~label.sk-toggleable__label {\n",
       "  background-color: var(--sklearn-color-fitted-level-2);\n",
       "}\n",
       "\n",
       "/* Estimator-specific style */\n",
       "\n",
       "/* Colorize estimator box */\n",
       "#sk-container-id-3 div.sk-estimator input.sk-toggleable__control:checked~label.sk-toggleable__label {\n",
       "  /* unfitted */\n",
       "  background-color: var(--sklearn-color-unfitted-level-2);\n",
       "}\n",
       "\n",
       "#sk-container-id-3 div.sk-estimator.fitted input.sk-toggleable__control:checked~label.sk-toggleable__label {\n",
       "  /* fitted */\n",
       "  background-color: var(--sklearn-color-fitted-level-2);\n",
       "}\n",
       "\n",
       "#sk-container-id-3 div.sk-label label.sk-toggleable__label,\n",
       "#sk-container-id-3 div.sk-label label {\n",
       "  /* The background is the default theme color */\n",
       "  color: var(--sklearn-color-text-on-default-background);\n",
       "}\n",
       "\n",
       "/* On hover, darken the color of the background */\n",
       "#sk-container-id-3 div.sk-label:hover label.sk-toggleable__label {\n",
       "  color: var(--sklearn-color-text);\n",
       "  background-color: var(--sklearn-color-unfitted-level-2);\n",
       "}\n",
       "\n",
       "/* Label box, darken color on hover, fitted */\n",
       "#sk-container-id-3 div.sk-label.fitted:hover label.sk-toggleable__label.fitted {\n",
       "  color: var(--sklearn-color-text);\n",
       "  background-color: var(--sklearn-color-fitted-level-2);\n",
       "}\n",
       "\n",
       "/* Estimator label */\n",
       "\n",
       "#sk-container-id-3 div.sk-label label {\n",
       "  font-family: monospace;\n",
       "  font-weight: bold;\n",
       "  display: inline-block;\n",
       "  line-height: 1.2em;\n",
       "}\n",
       "\n",
       "#sk-container-id-3 div.sk-label-container {\n",
       "  text-align: center;\n",
       "}\n",
       "\n",
       "/* Estimator-specific */\n",
       "#sk-container-id-3 div.sk-estimator {\n",
       "  font-family: monospace;\n",
       "  border: 1px dotted var(--sklearn-color-border-box);\n",
       "  border-radius: 0.25em;\n",
       "  box-sizing: border-box;\n",
       "  margin-bottom: 0.5em;\n",
       "  /* unfitted */\n",
       "  background-color: var(--sklearn-color-unfitted-level-0);\n",
       "}\n",
       "\n",
       "#sk-container-id-3 div.sk-estimator.fitted {\n",
       "  /* fitted */\n",
       "  background-color: var(--sklearn-color-fitted-level-0);\n",
       "}\n",
       "\n",
       "/* on hover */\n",
       "#sk-container-id-3 div.sk-estimator:hover {\n",
       "  /* unfitted */\n",
       "  background-color: var(--sklearn-color-unfitted-level-2);\n",
       "}\n",
       "\n",
       "#sk-container-id-3 div.sk-estimator.fitted:hover {\n",
       "  /* fitted */\n",
       "  background-color: var(--sklearn-color-fitted-level-2);\n",
       "}\n",
       "\n",
       "/* Specification for estimator info (e.g. \"i\" and \"?\") */\n",
       "\n",
       "/* Common style for \"i\" and \"?\" */\n",
       "\n",
       ".sk-estimator-doc-link,\n",
       "a:link.sk-estimator-doc-link,\n",
       "a:visited.sk-estimator-doc-link {\n",
       "  float: right;\n",
       "  font-size: smaller;\n",
       "  line-height: 1em;\n",
       "  font-family: monospace;\n",
       "  background-color: var(--sklearn-color-background);\n",
       "  border-radius: 1em;\n",
       "  height: 1em;\n",
       "  width: 1em;\n",
       "  text-decoration: none !important;\n",
       "  margin-left: 1ex;\n",
       "  /* unfitted */\n",
       "  border: var(--sklearn-color-unfitted-level-1) 1pt solid;\n",
       "  color: var(--sklearn-color-unfitted-level-1);\n",
       "}\n",
       "\n",
       ".sk-estimator-doc-link.fitted,\n",
       "a:link.sk-estimator-doc-link.fitted,\n",
       "a:visited.sk-estimator-doc-link.fitted {\n",
       "  /* fitted */\n",
       "  border: var(--sklearn-color-fitted-level-1) 1pt solid;\n",
       "  color: var(--sklearn-color-fitted-level-1);\n",
       "}\n",
       "\n",
       "/* On hover */\n",
       "div.sk-estimator:hover .sk-estimator-doc-link:hover,\n",
       ".sk-estimator-doc-link:hover,\n",
       "div.sk-label-container:hover .sk-estimator-doc-link:hover,\n",
       ".sk-estimator-doc-link:hover {\n",
       "  /* unfitted */\n",
       "  background-color: var(--sklearn-color-unfitted-level-3);\n",
       "  color: var(--sklearn-color-background);\n",
       "  text-decoration: none;\n",
       "}\n",
       "\n",
       "div.sk-estimator.fitted:hover .sk-estimator-doc-link.fitted:hover,\n",
       ".sk-estimator-doc-link.fitted:hover,\n",
       "div.sk-label-container:hover .sk-estimator-doc-link.fitted:hover,\n",
       ".sk-estimator-doc-link.fitted:hover {\n",
       "  /* fitted */\n",
       "  background-color: var(--sklearn-color-fitted-level-3);\n",
       "  color: var(--sklearn-color-background);\n",
       "  text-decoration: none;\n",
       "}\n",
       "\n",
       "/* Span, style for the box shown on hovering the info icon */\n",
       ".sk-estimator-doc-link span {\n",
       "  display: none;\n",
       "  z-index: 9999;\n",
       "  position: relative;\n",
       "  font-weight: normal;\n",
       "  right: .2ex;\n",
       "  padding: .5ex;\n",
       "  margin: .5ex;\n",
       "  width: min-content;\n",
       "  min-width: 20ex;\n",
       "  max-width: 50ex;\n",
       "  color: var(--sklearn-color-text);\n",
       "  box-shadow: 2pt 2pt 4pt #999;\n",
       "  /* unfitted */\n",
       "  background: var(--sklearn-color-unfitted-level-0);\n",
       "  border: .5pt solid var(--sklearn-color-unfitted-level-3);\n",
       "}\n",
       "\n",
       ".sk-estimator-doc-link.fitted span {\n",
       "  /* fitted */\n",
       "  background: var(--sklearn-color-fitted-level-0);\n",
       "  border: var(--sklearn-color-fitted-level-3);\n",
       "}\n",
       "\n",
       ".sk-estimator-doc-link:hover span {\n",
       "  display: block;\n",
       "}\n",
       "\n",
       "/* \"?\"-specific style due to the `<a>` HTML tag */\n",
       "\n",
       "#sk-container-id-3 a.estimator_doc_link {\n",
       "  float: right;\n",
       "  font-size: 1rem;\n",
       "  line-height: 1em;\n",
       "  font-family: monospace;\n",
       "  background-color: var(--sklearn-color-background);\n",
       "  border-radius: 1rem;\n",
       "  height: 1rem;\n",
       "  width: 1rem;\n",
       "  text-decoration: none;\n",
       "  /* unfitted */\n",
       "  color: var(--sklearn-color-unfitted-level-1);\n",
       "  border: var(--sklearn-color-unfitted-level-1) 1pt solid;\n",
       "}\n",
       "\n",
       "#sk-container-id-3 a.estimator_doc_link.fitted {\n",
       "  /* fitted */\n",
       "  border: var(--sklearn-color-fitted-level-1) 1pt solid;\n",
       "  color: var(--sklearn-color-fitted-level-1);\n",
       "}\n",
       "\n",
       "/* On hover */\n",
       "#sk-container-id-3 a.estimator_doc_link:hover {\n",
       "  /* unfitted */\n",
       "  background-color: var(--sklearn-color-unfitted-level-3);\n",
       "  color: var(--sklearn-color-background);\n",
       "  text-decoration: none;\n",
       "}\n",
       "\n",
       "#sk-container-id-3 a.estimator_doc_link.fitted:hover {\n",
       "  /* fitted */\n",
       "  background-color: var(--sklearn-color-fitted-level-3);\n",
       "}\n",
       "</style><div id=\"sk-container-id-3\" class=\"sk-top-container\"><div class=\"sk-text-repr-fallback\"><pre>RandomForestClassifier(random_state=42)</pre><b>In a Jupyter environment, please rerun this cell to show the HTML representation or trust the notebook. <br />On GitHub, the HTML representation is unable to render, please try loading this page with nbviewer.org.</b></div><div class=\"sk-container\" hidden><div class=\"sk-item\"><div class=\"sk-estimator fitted sk-toggleable\"><input class=\"sk-toggleable__control sk-hidden--visually\" id=\"sk-estimator-id-3\" type=\"checkbox\" checked><label for=\"sk-estimator-id-3\" class=\"sk-toggleable__label fitted sk-toggleable__label-arrow fitted\">&nbsp;&nbsp;RandomForestClassifier<a class=\"sk-estimator-doc-link fitted\" rel=\"noreferrer\" target=\"_blank\" href=\"https://scikit-learn.org/1.5/modules/generated/sklearn.ensemble.RandomForestClassifier.html\">?<span>Documentation for RandomForestClassifier</span></a><span class=\"sk-estimator-doc-link fitted\">i<span>Fitted</span></span></label><div class=\"sk-toggleable__content fitted\"><pre>RandomForestClassifier(random_state=42)</pre></div> </div></div></div></div>"
      ],
      "text/plain": [
       "RandomForestClassifier(random_state=42)"
      ]
     },
     "execution_count": 92,
     "metadata": {},
     "output_type": "execute_result"
    }
   ],
   "source": [
    "model = RandomForestClassifier(n_estimators=100, random_state=42)\n",
    "model.fit(X_train, y_train)"
   ]
  },
  {
   "cell_type": "markdown",
   "id": "85f9bc9d-ae91-4498-9edb-cf4930ed4e7b",
   "metadata": {},
   "source": [
    "#### Évaluation du modèle"
   ]
  },
  {
   "cell_type": "code",
   "execution_count": 93,
   "id": "d0fb62f2-8781-4a08-9d5b-a914f3d37733",
   "metadata": {},
   "outputs": [
    {
     "name": "stdout",
     "output_type": "stream",
     "text": [
      "\n",
      "Précision du modèle : 0.7921348314606742\n"
     ]
    }
   ],
   "source": [
    "predictions = model.predict(X_test)\n",
    "accuracy = accuracy_score(y_test, predictions)\n",
    "print(\"\\nPrécision du modèle :\", accuracy)"
   ]
  },
  {
   "cell_type": "markdown",
   "id": "a53ab921-40c2-445c-83ca-22fd99f37b7a",
   "metadata": {},
   "source": [
    "#### Rapport de classification"
   ]
  },
  {
   "cell_type": "code",
   "execution_count": 94,
   "id": "c471a3f1-ccaa-490d-8502-b20d9fc89aa5",
   "metadata": {},
   "outputs": [
    {
     "name": "stdout",
     "output_type": "stream",
     "text": [
      "\n",
      "Rapport de classification :\n",
      "               precision    recall  f1-score   support\n",
      "\n",
      "           0       0.81      0.82      0.82       100\n",
      "           1       0.77      0.76      0.76        78\n",
      "\n",
      "    accuracy                           0.79       178\n",
      "   macro avg       0.79      0.79      0.79       178\n",
      "weighted avg       0.79      0.79      0.79       178\n",
      "\n"
     ]
    }
   ],
   "source": [
    "report = classification_report(y_test, predictions)\n",
    "print(\"\\nRapport de classification :\\n\", report)"
   ]
  },
  {
   "cell_type": "markdown",
   "id": "b549872f-ebc7-48d8-abed-a50c05e3cf54",
   "metadata": {},
   "source": [
    "1. Le modèle Random Forest a atteint une précision de 79 %, ce qui est une performance solide pour un modèle initial.\n",
    "2. La classe 0 (non survivants) a un F1-score de 0.81, indiquant une bonne capacité à détecter les passagers qui n'ont pas survécu.\n",
    "3. La classe 1 (survivants) a un F1-score de 0.76, légèrement inférieur, ce qui peut refléter un léger déséquilibre dans la prédiction des survivants.\n",
    "4. Des ajustements comme le réglage des hyperparamètres ou l'équilibrage des classes pourraient améliorer les résultats.\n",
    "5. Le modèle est un bon point de départ, mais une optimisation supplémentaire est nécessaire pour améliorer la précision globale."
   ]
  },
  {
   "cell_type": "markdown",
   "id": "42f8d64f-0350-4f94-b8e4-5d2407f6de9f",
   "metadata": {},
   "source": [
    "## Matrice de confusion"
   ]
  },
  {
   "cell_type": "code",
   "execution_count": 95,
   "id": "cfd50e22-c1f7-412d-9d2e-383794b67f44",
   "metadata": {},
   "outputs": [],
   "source": [
    "from sklearn.metrics import confusion_matrix\n",
    "import numpy as np\n",
    "import itertools"
   ]
  },
  {
   "cell_type": "code",
   "execution_count": 114,
   "id": "a030ecb7-a3f6-42e0-9412-e3df55dcfc34",
   "metadata": {},
   "outputs": [
    {
     "data": {
      "image/png": "[encoded data removed]",
      "text/plain": [
       "<Figure size 800x600 with 2 Axes>"
      ]
     },
     "metadata": {},
     "output_type": "display_data"
    }
   ],
   "source": [
    "conf_matrix = confusion_matrix(y_test, predictions)\n",
    "plt.figure(figsize=(8, 6))\n",
    "sns.heatmap(conf_matrix, annot=True, fmt=\"d\", cmap=\"Blues\", xticklabels=[\"Non Survivants\", \"Survivants\"], yticklabels=[\"Non Survivants\", \"Survivants\"])\n",
    "plt.title(\"Matrice de confusion\")\n",
    "plt.xlabel(\"Prédictions\")\n",
    "plt.ylabel(\"Valeurs réelles\")\n",
    "plt.show()"
   ]
  },
  {
   "cell_type": "markdown",
   "id": "10714e4d-7b17-4fa7-ad3d-116878b2c9e2",
   "metadata": {},
   "source": [
    "#### Observations sur la mise à l'échelle\n",
    "\n",
    "1. La précision globale du modèle est de 79 %, indiquant une performance correcte.\n",
    "2. La matrice de confusion montre :\n",
    "   - 82 non-survivants correctement identifiés.\n",
    "   - 59 survivants correctement identifiés.\n",
    "   - 18 faux positifs (non-survivants classés à tort comme survivants).\n",
    "   - 19 faux négatifs (survivants classés à tort comme non-survivants).\n",
    "3. Ces erreurs, notamment les faux négatifs, peuvent être critiques si l'objectif est de minimiser les erreurs sur les survivants.\n",
    "4. Pour réduire ces erreurs :\n",
    "   - Augmenter la complexité du modèle en ajustant les hyperparamètres (par exemple, profondeur maximale des arbres, nombre d'arbres).\n",
    "   - Rééquilibrer les classes pour mieux gérer les déséquilibres.\n",
    "   - Tester des algorithmes alternatifs comme XGBoost ou LightGBM.\n",
    "5. Ce modèle peut être amélioré en fonction des priorités définies (précision globale ou réduction des erreurs critiques).\n"
   ]
  },
  {
   "cell_type": "markdown",
   "id": "7120eae0-106a-401b-b1f0-e138a63ad135",
   "metadata": {},
   "source": [
    "## Mise à l'échelle des données"
   ]
  },
  {
   "cell_type": "code",
   "execution_count": 97,
   "id": "4baa7696-e67e-4d97-af37-c8fed1d9ced2",
   "metadata": {},
   "outputs": [],
   "source": [
    "from sklearn.preprocessing import StandardScaler"
   ]
  },
  {
   "cell_type": "code",
   "execution_count": 98,
   "id": "0ed9f18d-8c55-4906-958e-97f99cf5e8cb",
   "metadata": {},
   "outputs": [],
   "source": [
    "scaler = StandardScaler()\n",
    "X_train_scaled = scaler.fit_transform(X_train)\n",
    "X_test_scaled = scaler.transform(X_test)"
   ]
  },
  {
   "cell_type": "markdown",
   "id": "d8afddab-43eb-4173-9e99-a610936096ff",
   "metadata": {},
   "source": [
    "### Entraînement du modèle avec les données mises à l'échelle"
   ]
  },
  {
   "cell_type": "code",
   "execution_count": 99,
   "id": "cafbbc70-413a-485b-8594-b76106e7adfe",
   "metadata": {},
   "outputs": [
    {
     "data": {
      "text/html": [
       "<style>#sk-container-id-4 {\n",
       "  /* Definition of color scheme common for light and dark mode */\n",
       "  --sklearn-color-text: black;\n",
       "  --sklearn-color-line: gray;\n",
       "  /* Definition of color scheme for unfitted estimators */\n",
       "  --sklearn-color-unfitted-level-0: #fff5e6;\n",
       "  --sklearn-color-unfitted-level-1: #f6e4d2;\n",
       "  --sklearn-color-unfitted-level-2: #ffe0b3;\n",
       "  --sklearn-color-unfitted-level-3: chocolate;\n",
       "  /* Definition of color scheme for fitted estimators */\n",
       "  --sklearn-color-fitted-level-0: #f0f8ff;\n",
       "  --sklearn-color-fitted-level-1: #d4ebff;\n",
       "  --sklearn-color-fitted-level-2: #b3dbfd;\n",
       "  --sklearn-color-fitted-level-3: cornflowerblue;\n",
       "\n",
       "  /* Specific color for light theme */\n",
       "  --sklearn-color-text-on-default-background: var(--sg-text-color, var(--theme-code-foreground, var(--jp-content-font-color1, black)));\n",
       "  --sklearn-color-background: var(--sg-background-color, var(--theme-background, var(--jp-layout-color0, white)));\n",
       "  --sklearn-color-border-box: var(--sg-text-color, var(--theme-code-foreground, var(--jp-content-font-color1, black)));\n",
       "  --sklearn-color-icon: #696969;\n",
       "\n",
       "  @media (prefers-color-scheme: dark) {\n",
       "    /* Redefinition of color scheme for dark theme */\n",
       "    --sklearn-color-text-on-default-background: var(--sg-text-color, var(--theme-code-foreground, var(--jp-content-font-color1, white)));\n",
       "    --sklearn-color-background: var(--sg-background-color, var(--theme-background, var(--jp-layout-color0, #111)));\n",
       "    --sklearn-color-border-box: var(--sg-text-color, var(--theme-code-foreground, var(--jp-content-font-color1, white)));\n",
       "    --sklearn-color-icon: #878787;\n",
       "  }\n",
       "}\n",
       "\n",
       "#sk-container-id-4 {\n",
       "  color: var(--sklearn-color-text);\n",
       "}\n",
       "\n",
       "#sk-container-id-4 pre {\n",
       "  padding: 0;\n",
       "}\n",
       "\n",
       "#sk-container-id-4 input.sk-hidden--visually {\n",
       "  border: 0;\n",
       "  clip: rect(1px 1px 1px 1px);\n",
       "  clip: rect(1px, 1px, 1px, 1px);\n",
       "  height: 1px;\n",
       "  margin: -1px;\n",
       "  overflow: hidden;\n",
       "  padding: 0;\n",
       "  position: absolute;\n",
       "  width: 1px;\n",
       "}\n",
       "\n",
       "#sk-container-id-4 div.sk-dashed-wrapped {\n",
       "  border: 1px dashed var(--sklearn-color-line);\n",
       "  margin: 0 0.4em 0.5em 0.4em;\n",
       "  box-sizing: border-box;\n",
       "  padding-bottom: 0.4em;\n",
       "  background-color: var(--sklearn-color-background);\n",
       "}\n",
       "\n",
       "#sk-container-id-4 div.sk-container {\n",
       "  /* jupyter's `normalize.less` sets `[hidden] { display: none; }`\n",
       "     but bootstrap.min.css set `[hidden] { display: none !important; }`\n",
       "     so we also need the `!important` here to be able to override the\n",
       "     default hidden behavior on the sphinx rendered scikit-learn.org.\n",
       "     See: https://github.com/scikit-learn/scikit-learn/issues/21755 */\n",
       "  display: inline-block !important;\n",
       "  position: relative;\n",
       "}\n",
       "\n",
       "#sk-container-id-4 div.sk-text-repr-fallback {\n",
       "  display: none;\n",
       "}\n",
       "\n",
       "div.sk-parallel-item,\n",
       "div.sk-serial,\n",
       "div.sk-item {\n",
       "  /* draw centered vertical line to link estimators */\n",
       "  background-image: linear-gradient(var(--sklearn-color-text-on-default-background), var(--sklearn-color-text-on-default-background));\n",
       "  background-size: 2px 100%;\n",
       "  background-repeat: no-repeat;\n",
       "  background-position: center center;\n",
       "}\n",
       "\n",
       "/* Parallel-specific style estimator block */\n",
       "\n",
       "#sk-container-id-4 div.sk-parallel-item::after {\n",
       "  content: \"\";\n",
       "  width: 100%;\n",
       "  border-bottom: 2px solid var(--sklearn-color-text-on-default-background);\n",
       "  flex-grow: 1;\n",
       "}\n",
       "\n",
       "#sk-container-id-4 div.sk-parallel {\n",
       "  display: flex;\n",
       "  align-items: stretch;\n",
       "  justify-content: center;\n",
       "  background-color: var(--sklearn-color-background);\n",
       "  position: relative;\n",
       "}\n",
       "\n",
       "#sk-container-id-4 div.sk-parallel-item {\n",
       "  display: flex;\n",
       "  flex-direction: column;\n",
       "}\n",
       "\n",
       "#sk-container-id-4 div.sk-parallel-item:first-child::after {\n",
       "  align-self: flex-end;\n",
       "  width: 50%;\n",
       "}\n",
       "\n",
       "#sk-container-id-4 div.sk-parallel-item:last-child::after {\n",
       "  align-self: flex-start;\n",
       "  width: 50%;\n",
       "}\n",
       "\n",
       "#sk-container-id-4 div.sk-parallel-item:only-child::after {\n",
       "  width: 0;\n",
       "}\n",
       "\n",
       "/* Serial-specific style estimator block */\n",
       "\n",
       "#sk-container-id-4 div.sk-serial {\n",
       "  display: flex;\n",
       "  flex-direction: column;\n",
       "  align-items: center;\n",
       "  background-color: var(--sklearn-color-background);\n",
       "  padding-right: 1em;\n",
       "  padding-left: 1em;\n",
       "}\n",
       "\n",
       "\n",
       "/* Toggleable style: style used for estimator/Pipeline/ColumnTransformer box that is\n",
       "clickable and can be expanded/collapsed.\n",
       "- Pipeline and ColumnTransformer use this feature and define the default style\n",
       "- Estimators will overwrite some part of the style using the `sk-estimator` class\n",
       "*/\n",
       "\n",
       "/* Pipeline and ColumnTransformer style (default) */\n",
       "\n",
       "#sk-container-id-4 div.sk-toggleable {\n",
       "  /* Default theme specific background. It is overwritten whether we have a\n",
       "  specific estimator or a Pipeline/ColumnTransformer */\n",
       "  background-color: var(--sklearn-color-background);\n",
       "}\n",
       "\n",
       "/* Toggleable label */\n",
       "#sk-container-id-4 label.sk-toggleable__label {\n",
       "  cursor: pointer;\n",
       "  display: block;\n",
       "  width: 100%;\n",
       "  margin-bottom: 0;\n",
       "  padding: 0.5em;\n",
       "  box-sizing: border-box;\n",
       "  text-align: center;\n",
       "}\n",
       "\n",
       "#sk-container-id-4 label.sk-toggleable__label-arrow:before {\n",
       "  /* Arrow on the left of the label */\n",
       "  content: \"▸\";\n",
       "  float: left;\n",
       "  margin-right: 0.25em;\n",
       "  color: var(--sklearn-color-icon);\n",
       "}\n",
       "\n",
       "#sk-container-id-4 label.sk-toggleable__label-arrow:hover:before {\n",
       "  color: var(--sklearn-color-text);\n",
       "}\n",
       "\n",
       "/* Toggleable content - dropdown */\n",
       "\n",
       "#sk-container-id-4 div.sk-toggleable__content {\n",
       "  max-height: 0;\n",
       "  max-width: 0;\n",
       "  overflow: hidden;\n",
       "  text-align: left;\n",
       "  /* unfitted */\n",
       "  background-color: var(--sklearn-color-unfitted-level-0);\n",
       "}\n",
       "\n",
       "#sk-container-id-4 div.sk-toggleable__content.fitted {\n",
       "  /* fitted */\n",
       "  background-color: var(--sklearn-color-fitted-level-0);\n",
       "}\n",
       "\n",
       "#sk-container-id-4 div.sk-toggleable__content pre {\n",
       "  margin: 0.2em;\n",
       "  border-radius: 0.25em;\n",
       "  color: var(--sklearn-color-text);\n",
       "  /* unfitted */\n",
       "  background-color: var(--sklearn-color-unfitted-level-0);\n",
       "}\n",
       "\n",
       "#sk-container-id-4 div.sk-toggleable__content.fitted pre {\n",
       "  /* unfitted */\n",
       "  background-color: var(--sklearn-color-fitted-level-0);\n",
       "}\n",
       "\n",
       "#sk-container-id-4 input.sk-toggleable__control:checked~div.sk-toggleable__content {\n",
       "  /* Expand drop-down */\n",
       "  max-height: 200px;\n",
       "  max-width: 100%;\n",
       "  overflow: auto;\n",
       "}\n",
       "\n",
       "#sk-container-id-4 input.sk-toggleable__control:checked~label.sk-toggleable__label-arrow:before {\n",
       "  content: \"▾\";\n",
       "}\n",
       "\n",
       "/* Pipeline/ColumnTransformer-specific style */\n",
       "\n",
       "#sk-container-id-4 div.sk-label input.sk-toggleable__control:checked~label.sk-toggleable__label {\n",
       "  color: var(--sklearn-color-text);\n",
       "  background-color: var(--sklearn-color-unfitted-level-2);\n",
       "}\n",
       "\n",
       "#sk-container-id-4 div.sk-label.fitted input.sk-toggleable__control:checked~label.sk-toggleable__label {\n",
       "  background-color: var(--sklearn-color-fitted-level-2);\n",
       "}\n",
       "\n",
       "/* Estimator-specific style */\n",
       "\n",
       "/* Colorize estimator box */\n",
       "#sk-container-id-4 div.sk-estimator input.sk-toggleable__control:checked~label.sk-toggleable__label {\n",
       "  /* unfitted */\n",
       "  background-color: var(--sklearn-color-unfitted-level-2);\n",
       "}\n",
       "\n",
       "#sk-container-id-4 div.sk-estimator.fitted input.sk-toggleable__control:checked~label.sk-toggleable__label {\n",
       "  /* fitted */\n",
       "  background-color: var(--sklearn-color-fitted-level-2);\n",
       "}\n",
       "\n",
       "#sk-container-id-4 div.sk-label label.sk-toggleable__label,\n",
       "#sk-container-id-4 div.sk-label label {\n",
       "  /* The background is the default theme color */\n",
       "  color: var(--sklearn-color-text-on-default-background);\n",
       "}\n",
       "\n",
       "/* On hover, darken the color of the background */\n",
       "#sk-container-id-4 div.sk-label:hover label.sk-toggleable__label {\n",
       "  color: var(--sklearn-color-text);\n",
       "  background-color: var(--sklearn-color-unfitted-level-2);\n",
       "}\n",
       "\n",
       "/* Label box, darken color on hover, fitted */\n",
       "#sk-container-id-4 div.sk-label.fitted:hover label.sk-toggleable__label.fitted {\n",
       "  color: var(--sklearn-color-text);\n",
       "  background-color: var(--sklearn-color-fitted-level-2);\n",
       "}\n",
       "\n",
       "/* Estimator label */\n",
       "\n",
       "#sk-container-id-4 div.sk-label label {\n",
       "  font-family: monospace;\n",
       "  font-weight: bold;\n",
       "  display: inline-block;\n",
       "  line-height: 1.2em;\n",
       "}\n",
       "\n",
       "#sk-container-id-4 div.sk-label-container {\n",
       "  text-align: center;\n",
       "}\n",
       "\n",
       "/* Estimator-specific */\n",
       "#sk-container-id-4 div.sk-estimator {\n",
       "  font-family: monospace;\n",
       "  border: 1px dotted var(--sklearn-color-border-box);\n",
       "  border-radius: 0.25em;\n",
       "  box-sizing: border-box;\n",
       "  margin-bottom: 0.5em;\n",
       "  /* unfitted */\n",
       "  background-color: var(--sklearn-color-unfitted-level-0);\n",
       "}\n",
       "\n",
       "#sk-container-id-4 div.sk-estimator.fitted {\n",
       "  /* fitted */\n",
       "  background-color: var(--sklearn-color-fitted-level-0);\n",
       "}\n",
       "\n",
       "/* on hover */\n",
       "#sk-container-id-4 div.sk-estimator:hover {\n",
       "  /* unfitted */\n",
       "  background-color: var(--sklearn-color-unfitted-level-2);\n",
       "}\n",
       "\n",
       "#sk-container-id-4 div.sk-estimator.fitted:hover {\n",
       "  /* fitted */\n",
       "  background-color: var(--sklearn-color-fitted-level-2);\n",
       "}\n",
       "\n",
       "/* Specification for estimator info (e.g. \"i\" and \"?\") */\n",
       "\n",
       "/* Common style for \"i\" and \"?\" */\n",
       "\n",
       ".sk-estimator-doc-link,\n",
       "a:link.sk-estimator-doc-link,\n",
       "a:visited.sk-estimator-doc-link {\n",
       "  float: right;\n",
       "  font-size: smaller;\n",
       "  line-height: 1em;\n",
       "  font-family: monospace;\n",
       "  background-color: var(--sklearn-color-background);\n",
       "  border-radius: 1em;\n",
       "  height: 1em;\n",
       "  width: 1em;\n",
       "  text-decoration: none !important;\n",
       "  margin-left: 1ex;\n",
       "  /* unfitted */\n",
       "  border: var(--sklearn-color-unfitted-level-1) 1pt solid;\n",
       "  color: var(--sklearn-color-unfitted-level-1);\n",
       "}\n",
       "\n",
       ".sk-estimator-doc-link.fitted,\n",
       "a:link.sk-estimator-doc-link.fitted,\n",
       "a:visited.sk-estimator-doc-link.fitted {\n",
       "  /* fitted */\n",
       "  border: var(--sklearn-color-fitted-level-1) 1pt solid;\n",
       "  color: var(--sklearn-color-fitted-level-1);\n",
       "}\n",
       "\n",
       "/* On hover */\n",
       "div.sk-estimator:hover .sk-estimator-doc-link:hover,\n",
       ".sk-estimator-doc-link:hover,\n",
       "div.sk-label-container:hover .sk-estimator-doc-link:hover,\n",
       ".sk-estimator-doc-link:hover {\n",
       "  /* unfitted */\n",
       "  background-color: var(--sklearn-color-unfitted-level-3);\n",
       "  color: var(--sklearn-color-background);\n",
       "  text-decoration: none;\n",
       "}\n",
       "\n",
       "div.sk-estimator.fitted:hover .sk-estimator-doc-link.fitted:hover,\n",
       ".sk-estimator-doc-link.fitted:hover,\n",
       "div.sk-label-container:hover .sk-estimator-doc-link.fitted:hover,\n",
       ".sk-estimator-doc-link.fitted:hover {\n",
       "  /* fitted */\n",
       "  background-color: var(--sklearn-color-fitted-level-3);\n",
       "  color: var(--sklearn-color-background);\n",
       "  text-decoration: none;\n",
       "}\n",
       "\n",
       "/* Span, style for the box shown on hovering the info icon */\n",
       ".sk-estimator-doc-link span {\n",
       "  display: none;\n",
       "  z-index: 9999;\n",
       "  position: relative;\n",
       "  font-weight: normal;\n",
       "  right: .2ex;\n",
       "  padding: .5ex;\n",
       "  margin: .5ex;\n",
       "  width: min-content;\n",
       "  min-width: 20ex;\n",
       "  max-width: 50ex;\n",
       "  color: var(--sklearn-color-text);\n",
       "  box-shadow: 2pt 2pt 4pt #999;\n",
       "  /* unfitted */\n",
       "  background: var(--sklearn-color-unfitted-level-0);\n",
       "  border: .5pt solid var(--sklearn-color-unfitted-level-3);\n",
       "}\n",
       "\n",
       ".sk-estimator-doc-link.fitted span {\n",
       "  /* fitted */\n",
       "  background: var(--sklearn-color-fitted-level-0);\n",
       "  border: var(--sklearn-color-fitted-level-3);\n",
       "}\n",
       "\n",
       ".sk-estimator-doc-link:hover span {\n",
       "  display: block;\n",
       "}\n",
       "\n",
       "/* \"?\"-specific style due to the `<a>` HTML tag */\n",
       "\n",
       "#sk-container-id-4 a.estimator_doc_link {\n",
       "  float: right;\n",
       "  font-size: 1rem;\n",
       "  line-height: 1em;\n",
       "  font-family: monospace;\n",
       "  background-color: var(--sklearn-color-background);\n",
       "  border-radius: 1rem;\n",
       "  height: 1rem;\n",
       "  width: 1rem;\n",
       "  text-decoration: none;\n",
       "  /* unfitted */\n",
       "  color: var(--sklearn-color-unfitted-level-1);\n",
       "  border: var(--sklearn-color-unfitted-level-1) 1pt solid;\n",
       "}\n",
       "\n",
       "#sk-container-id-4 a.estimator_doc_link.fitted {\n",
       "  /* fitted */\n",
       "  border: var(--sklearn-color-fitted-level-1) 1pt solid;\n",
       "  color: var(--sklearn-color-fitted-level-1);\n",
       "}\n",
       "\n",
       "/* On hover */\n",
       "#sk-container-id-4 a.estimator_doc_link:hover {\n",
       "  /* unfitted */\n",
       "  background-color: var(--sklearn-color-unfitted-level-3);\n",
       "  color: var(--sklearn-color-background);\n",
       "  text-decoration: none;\n",
       "}\n",
       "\n",
       "#sk-container-id-4 a.estimator_doc_link.fitted:hover {\n",
       "  /* fitted */\n",
       "  background-color: var(--sklearn-color-fitted-level-3);\n",
       "}\n",
       "</style><div id=\"sk-container-id-4\" class=\"sk-top-container\"><div class=\"sk-text-repr-fallback\"><pre>RandomForestClassifier(random_state=42)</pre><b>In a Jupyter environment, please rerun this cell to show the HTML representation or trust the notebook. <br />On GitHub, the HTML representation is unable to render, please try loading this page with nbviewer.org.</b></div><div class=\"sk-container\" hidden><div class=\"sk-item\"><div class=\"sk-estimator fitted sk-toggleable\"><input class=\"sk-toggleable__control sk-hidden--visually\" id=\"sk-estimator-id-4\" type=\"checkbox\" checked><label for=\"sk-estimator-id-4\" class=\"sk-toggleable__label fitted sk-toggleable__label-arrow fitted\">&nbsp;&nbsp;RandomForestClassifier<a class=\"sk-estimator-doc-link fitted\" rel=\"noreferrer\" target=\"_blank\" href=\"https://scikit-learn.org/1.5/modules/generated/sklearn.ensemble.RandomForestClassifier.html\">?<span>Documentation for RandomForestClassifier</span></a><span class=\"sk-estimator-doc-link fitted\">i<span>Fitted</span></span></label><div class=\"sk-toggleable__content fitted\"><pre>RandomForestClassifier(random_state=42)</pre></div> </div></div></div></div>"
      ],
      "text/plain": [
       "RandomForestClassifier(random_state=42)"
      ]
     },
     "execution_count": 99,
     "metadata": {},
     "output_type": "execute_result"
    }
   ],
   "source": [
    "model_scaled = RandomForestClassifier(n_estimators=100, random_state=42)\n",
    "model_scaled.fit(X_train_scaled, y_train)"
   ]
  },
  {
   "cell_type": "markdown",
   "id": "fb402ecf-9117-4205-b2c7-8fdd6eaa39b9",
   "metadata": {},
   "source": [
    "### Évaluation du modèle avec mise à l'échelle"
   ]
  },
  {
   "cell_type": "code",
   "execution_count": 100,
   "id": "2f67b517-d6d2-4120-a6f7-3ee48391804e",
   "metadata": {},
   "outputs": [
    {
     "name": "stdout",
     "output_type": "stream",
     "text": [
      "\n",
      "Précision du modèle avec mise à l'échelle : 0.7921348314606742\n"
     ]
    }
   ],
   "source": [
    "predictions_scaled = model_scaled.predict(X_test_scaled)\n",
    "accuracy_scaled = accuracy_score(y_test, predictions_scaled)\n",
    "print(\"\\nPrécision du modèle avec mise à l'échelle :\", accuracy_scaled)"
   ]
  },
  {
   "cell_type": "markdown",
   "id": "737ae82e-a2fe-4371-8bff-4bbdf249d786",
   "metadata": {},
   "source": [
    "### Matrice de confusion avec mise à l'échelle"
   ]
  },
  {
   "cell_type": "code",
   "execution_count": 101,
   "id": "12fdb3a5-d01a-4c0a-a300-31de059d5973",
   "metadata": {},
   "outputs": [
    {
     "data": {
      "image/png": "[encoded data removed]",
      "text/plain": [
       "<Figure size 800x600 with 2 Axes>"
      ]
     },
     "metadata": {},
     "output_type": "display_data"
    }
   ],
   "source": [
    "conf_matrix_scaled = confusion_matrix(y_test, predictions_scaled)\n",
    "plt.figure(figsize=(8, 6))\n",
    "sns.heatmap(conf_matrix_scaled, annot=True, fmt=\"d\", cmap=\"Greens\", xticklabels=[\"Non Survivants\", \"Survivants\"], yticklabels=[\"Non Survivants\", \"Survivants\"])\n",
    "plt.title(\"Matrice de confusion (avec mise à l'échelle)\")\n",
    "plt.xlabel(\"Prédictions\")\n",
    "plt.ylabel(\"Valeurs réelles\")\n",
    "plt.show()"
   ]
  },
  {
   "cell_type": "markdown",
   "id": "c15d2c83-57a9-45b3-a06d-00a9416ccc57",
   "metadata": {},
   "source": [
    "#### Observations sur la mise à l'échelle\n",
    "1. La précision du modèle sans mise à l'échelle est de 79,21 %, identique à celle obtenue après mise à l'échelle.\n",
    "2. La matrice de confusion montre des résultats identiques avant et après mise à l'échelle :\n",
    "   - 82 non-survivants correctement prédits.\n",
    "   - 59 survivants correctement prédits.\n",
    "   - 18 faux positifs (non-survivants classés comme survivants).\n",
    "   - 19 faux négatifs (survivants classés comme non-survivants).\n",
    "3. La mise à l'échelle n'a pas d'impact sur les forêts aléatoires, car cet algorithme est insensible à l'échelle des données.\n",
    "4. Cette étape reste pertinente pour d'autres algorithmes comme les SVM ou les régressions logistiques, qui sont très sensibles à l'échelle des caractéristiques."
   ]
  }
 ],
 "metadata": {
  "kernelspec": {
   "display_name": "Python 3 (ipykernel)",
   "language": "python",
   "name": "python3"
  },
  "language_info": {
   "codemirror_mode": {
    "name": "ipython",
    "version": 3
   },
   "file_extension": ".py",
   "mimetype": "text/x-python",
   "name": "python",
   "nbconvert_exporter": "python",
   "pygments_lexer": "ipython3",
   "version": "3.12.6"
  }
 },
 "nbformat": 4,
 "nbformat_minor": 5
}
