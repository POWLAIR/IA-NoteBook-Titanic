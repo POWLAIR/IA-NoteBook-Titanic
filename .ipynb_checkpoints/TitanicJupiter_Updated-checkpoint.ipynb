{
 "cells": [
  {
   "cell_type": "markdown",
   "id": "b0af3107",
   "metadata": {},
   "source": [
    "\n",
    "# Titanic Analysis\n",
    "## Objectifs\n",
    "L'objectif de ce notebook est d'analyser le dataset Titanic, de comprendre les relations entre les variables (par exemple, genre, âge, classe) et le taux de survie, et de construire un modèle de machine learning basé sur une forêt aléatoire pour prédire les survivants.\n",
    "\n",
    "### Bibliothèques utilisées\n",
    "- **Pandas** : Manipulation et exploration des données.\n",
    "- **Matplotlib/Seaborn** : Visualisation des données.\n",
    "- **Scikit-learn** : Modélisation et évaluation des performances.\n"
   ]
  },
  {
   "cell_type": "markdown",
   "id": "ad803898",
   "metadata": {},
   "source": [
    "## Importation des bibliothèques nécessaires"
   ]
  },
  {
   "cell_type": "code",
   "execution_count": 9,
   "id": "f161bb70",
   "metadata": {},
   "outputs": [],
   "source": [
    "\n",
    "import pandas as pd\n",
    "import matplotlib.pyplot as plt\n",
    "import seaborn as sns\n",
    "from sklearn.model_selection import train_test_split\n",
    "from sklearn.ensemble import RandomForestClassifier\n",
    "from sklearn.metrics import classification_report, confusion_matrix, accuracy_score, roc_auc_score\n",
    "from sklearn.preprocessing import StandardScaler, LabelEncoder\n"
   ]
  },
  {
   "cell_type": "markdown",
   "id": "a30c3923",
   "metadata": {},
   "source": [
    "## Chargement des données"
   ]
  },
  {
   "cell_type": "code",
   "execution_count": 55,
   "id": "6392c96c",
   "metadata": {},
   "outputs": [
    {
     "name": "stdout",
     "output_type": "stream",
     "text": [
      "Dataset chargé avec succès!\n",
      "\n"
     ]
    }
   ],
   "source": [
    "\n",
    "data_path = \"data/data.csv\" \n",
    "dataset = pd.read_csv(data_path)\n",
    "print(\"Dataset chargé avec succès!\\n\")\n"
   ]
  },
  {
   "cell_type": "markdown",
   "id": "eb2583cd",
   "metadata": {},
   "source": [
    "### Exploration initiale des données"
   ]
  },
  {
   "cell_type": "code",
   "execution_count": 56,
   "id": "ccc34387",
   "metadata": {},
   "outputs": [
    {
     "name": "stdout",
     "output_type": "stream",
     "text": [
      "Colonnes disponibles :\n",
      "\n",
      "Index(['Unnamed: 0', 'PassengerId', 'Survived', 'Pclass', 'Name', 'Sex', 'Age',\n",
      "       'SibSp', 'Parch', 'Ticket', 'Fare', 'Cabin', 'Embarked'],\n",
      "      dtype='object')\n",
      "\n",
      "Premières lignes du dataset :\n",
      "\n",
      "   Unnamed: 0  PassengerId  Survived  Pclass  \\\n",
      "0           0            1         0       3   \n",
      "1           1            2         1       1   \n",
      "2           2            3         1       3   \n",
      "3           3            4         1       1   \n",
      "4           4            5         0       3   \n",
      "\n",
      "                                                Name     Sex   Age  SibSp  \\\n",
      "0                            Braund, Mr. Owen Harris    male  22.0      1   \n",
      "1  Cumings, Mrs. John Bradley (Florence Briggs Th...  female  38.0      1   \n",
      "2                             Heikkinen, Miss. Laina  female  26.0      0   \n",
      "3       Futrelle, Mrs. Jacques Heath (Lily May Peel)  female  35.0      1   \n",
      "4                           Allen, Mr. William Henry    male  35.0      0   \n",
      "\n",
      "   Parch            Ticket     Fare Cabin Embarked  \n",
      "0      0         A/5 21171   7.2500   NaN        S  \n",
      "1      0          PC 17599  71.2833   C85        C  \n",
      "2      0  STON/O2. 3101282   7.9250   NaN        S  \n",
      "3      0            113803  53.1000  C123        S  \n",
      "4      0            373450   8.0500   NaN        S  \n",
      "\n",
      "Informations générales sur le dataset :\n",
      "\n",
      "<class 'pandas.core.frame.DataFrame'>\n",
      "RangeIndex: 886 entries, 0 to 885\n",
      "Data columns (total 13 columns):\n",
      " #   Column       Non-Null Count  Dtype  \n",
      "---  ------       --------------  -----  \n",
      " 0   Unnamed: 0   886 non-null    int64  \n",
      " 1   PassengerId  886 non-null    int64  \n",
      " 2   Survived     886 non-null    int64  \n",
      " 3   Pclass       886 non-null    int64  \n",
      " 4   Name         886 non-null    object \n",
      " 5   Sex          886 non-null    object \n",
      " 6   Age          709 non-null    float64\n",
      " 7   SibSp        886 non-null    int64  \n",
      " 8   Parch        886 non-null    int64  \n",
      " 9   Ticket       886 non-null    object \n",
      " 10  Fare         886 non-null    float64\n",
      " 11  Cabin        202 non-null    object \n",
      " 12  Embarked     884 non-null    object \n",
      "dtypes: float64(2), int64(6), object(5)\n",
      "memory usage: 90.1+ KB\n",
      "None\n",
      "\n",
      "Statistiques descriptives :\n",
      "\n",
      "       Unnamed: 0  PassengerId    Survived      Pclass         Age  \\\n",
      "count  886.000000   886.000000  886.000000  886.000000  709.000000   \n",
      "mean   445.860045   446.860045    0.383747    2.309255   29.677250   \n",
      "std    256.647193   256.647193    0.486572    0.836501   14.555826   \n",
      "min      0.000000     1.000000    0.000000    1.000000    0.420000   \n",
      "25%    224.250000   225.250000    0.000000    2.000000   20.000000   \n",
      "50%    446.500000   447.500000    0.000000    3.000000   28.000000   \n",
      "75%    667.750000   668.750000    1.000000    3.000000   38.000000   \n",
      "max    890.000000   891.000000    1.000000    3.000000   80.000000   \n",
      "\n",
      "            SibSp       Parch        Fare  \n",
      "count  886.000000  886.000000  886.000000  \n",
      "mean     0.524831    0.383747   32.249044  \n",
      "std      1.105177    0.807819   49.790784  \n",
      "min      0.000000    0.000000    0.000000  \n",
      "25%      0.000000    0.000000    7.895800  \n",
      "50%      0.000000    0.000000   14.456250  \n",
      "75%      1.000000    0.000000   31.000000  \n",
      "max      8.000000    6.000000  512.329200  \n"
     ]
    }
   ],
   "source": [
    "# Colonnes disponibles\n",
    "print(\"Colonnes disponibles :\\n\")\n",
    "print(dataset.columns)\n",
    "\n",
    "# Affichage des premières lignes\n",
    "print(\"\\nPremières lignes du dataset :\\n\")\n",
    "print(dataset.head())\n",
    "\n",
    "# Informations générales\n",
    "print(\"\\nInformations générales sur le dataset :\\n\")\n",
    "print(dataset.info())\n",
    "\n",
    "# Statistiques descriptives\n",
    "print(\"\\nStatistiques descriptives :\\n\")\n",
    "print(dataset.describe())\n"
   ]
  },
  {
   "cell_type": "markdown",
   "id": "434660a0",
   "metadata": {},
   "source": [
    "## Visualisation des Données"
   ]
  },
  {
   "cell_type": "code",
   "execution_count": 57,
   "id": "c824c050",
   "metadata": {},
   "outputs": [
    {
     "data": {
      "image/png": "[encoded data removed]",
      "text/plain": [
       "<Figure size 640x480 with 1 Axes>"
      ]
     },
     "metadata": {},
     "output_type": "display_data"
    },
    {
     "data": {
      "image/png": "[encoded data removed]",
      "text/plain": [
       "<Figure size 640x480 with 1 Axes>"
      ]
     },
     "metadata": {},
     "output_type": "display_data"
    },
    {
     "data": {
      "image/png": "[encoded data removed]",
      "text/plain": [
       "<Figure size 640x480 with 1 Axes>"
      ]
     },
     "metadata": {},
     "output_type": "display_data"
    }
   ],
   "source": [
    "\n",
    "# Taux de survie par sexe\n",
    "sns.barplot(x='Sex', y='Survived', data=dataset)\n",
    "plt.title('Taux de survie par sexe')\n",
    "plt.show()\n",
    "\n",
    "# Histogramme des âges\n",
    "dataset['Age'].plot(kind='hist', bins=20, title='Répartition des âges')\n",
    "plt.show()\n",
    "\n",
    "# Répartition par classe\n",
    "dataset['Pclass'].value_counts().plot(kind='pie', autopct='%1.1f%%', title='Répartition par classe')\n",
    "plt.ylabel('')  # Supprime le label inutile\n",
    "plt.show()\n"
   ]
  },
  {
   "cell_type": "markdown",
   "id": "670c827a",
   "metadata": {},
   "source": [
    "## Préparation des Données pour le Machine Learning"
   ]
  },
  {
   "cell_type": "code",
   "execution_count": 45,
   "id": "085bdeed",
   "metadata": {},
   "outputs": [
    {
     "name": "stdout",
     "output_type": "stream",
     "text": [
      "Unnamed: 0       int64\n",
      "PassengerId      int64\n",
      "Pclass           int64\n",
      "Sex             object\n",
      "Age            float64\n",
      "SibSp            int64\n",
      "Parch            int64\n",
      "Fare           float64\n",
      "Embarked        object\n",
      "dtype: object\n"
     ]
    }
   ],
   "source": [
    "# Recharger le dataset pour éviter des erreurs précédentes\n",
    "dataset = pd.read_csv(\"data/data.csv\")\n",
    "\n",
    "# Traitement des valeurs manquantes\n",
    "if 'Embarked' in dataset.columns:\n",
    "    dataset['Embarked'] = dataset['Embarked'].fillna(dataset['Embarked'].mode()[0])\n",
    "else:\n",
    "    print(\"Erreur : La colonne 'Embarked' est absente du dataset.\")\n",
    "\n",
    "if 'Age' in dataset.columns:\n",
    "    dataset['Age'] = dataset['Age'].fillna(dataset['Age'].median())\n",
    "else:\n",
    "    print(\"Erreur : La colonne 'Age' est absente du dataset.\")\n",
    "\n",
    "# Suppression des lignes avec 'Survived' manquant\n",
    "if 'Survived' in dataset.columns:\n",
    "    dataset = dataset.dropna(subset=['Survived'])\n",
    "else:\n",
    "    print(\"Erreur : La colonne 'Survived' est absente du dataset.\")\n",
    "\n",
    "# Exclure les colonnes non pertinentes\n",
    "X = dataset.drop(['Survived', 'Name', 'Ticket', 'Cabin'], axis=1)\n",
    "print(X.dtypes)\n",
    "\n",
    "y = dataset['Survived']\n",
    "\n",
    "# Encodage des variables catégorielles\n",
    "label_encoder = LabelEncoder()\n",
    "if 'Sex' in X.columns:\n",
    "    X['Sex'] = label_encoder.fit_transform(X['Sex'])\n",
    "X = pd.get_dummies(X, drop_first=True)\n"
   ]
  },
  {
   "cell_type": "markdown",
   "id": "1355f093",
   "metadata": {},
   "source": [
    "## Division des Données en Ensembles d'Entraînement et de Test"
   ]
  },
  {
   "cell_type": "code",
   "execution_count": 35,
   "id": "51766062",
   "metadata": {},
   "outputs": [
    {
     "name": "stdout",
     "output_type": "stream",
     "text": [
      "Données divisées :\n",
      "Entraînement : (708, 12), Test : (178, 12)\n"
     ]
    }
   ],
   "source": [
    "\n",
    "X_train, X_test, y_train, y_test = train_test_split(X, y, test_size=0.2, random_state=42)\n",
    "\n",
    "print(\"Données divisées :\")\n",
    "print(f\"Entraînement : {X_train.shape}, Test : {X_test.shape}\")\n"
   ]
  },
  {
   "cell_type": "markdown",
   "id": "de43f6a5",
   "metadata": {},
   "source": [
    "## Entraînement et Évaluation du Modèle"
   ]
  },
  {
   "cell_type": "code",
   "execution_count": 53,
   "id": "5c9354ab",
   "metadata": {
    "scrolled": true
   },
   "outputs": [
    {
     "name": "stdout",
     "output_type": "stream",
     "text": [
      "Unnamed: 0       int64\n",
      "PassengerId      int64\n",
      "Pclass           int64\n",
      "Sex              int64\n",
      "Age            float64\n",
      "SibSp            int64\n",
      "Parch            int64\n",
      "Fare           float64\n",
      "Embarked_Q        bool\n",
      "Embarked_S        bool\n",
      "dtype: object\n",
      "Unnamed: 0     0\n",
      "PassengerId    0\n",
      "Pclass         0\n",
      "Sex            0\n",
      "Age            0\n",
      "SibSp          0\n",
      "Parch          0\n",
      "Fare           0\n",
      "Embarked_Q     0\n",
      "Embarked_S     0\n",
      "dtype: int64\n",
      "0\n",
      "Rapport de classification:\n",
      "               precision    recall  f1-score   support\n",
      "\n",
      "           0       0.79      0.89      0.84       100\n",
      "           1       0.83      0.71      0.76        78\n",
      "\n",
      "    accuracy                           0.81       178\n",
      "   macro avg       0.81      0.80      0.80       178\n",
      "weighted avg       0.81      0.81      0.81       178\n",
      "\n",
      "Matrice de confusion:\n",
      " [[89 11]\n",
      " [23 55]]\n",
      "Score d'accuracy : 0.81\n"
     ]
    }
   ],
   "source": [
    "print(X.dtypes)\n",
    "\n",
    "print(X.isnull().sum())\n",
    "print(y.isnull().sum())\n",
    "\n",
    "# Remplissage ou suppression des valeurs manquantes\n",
    "X = X.fillna(0)\n",
    "\n",
    "X_train, X_test, y_train, y_test = train_test_split(X, y, test_size=0.2, random_state=42)\n",
    "\n",
    "# Entraînement d'une forêt aléatoire\n",
    "model = RandomForestClassifier(n_estimators=100, max_depth=5, random_state=42)\n",
    "model.fit(X_train, y_train)\n",
    "\n",
    "# Prédiction et évaluation\n",
    "y_pred = model.predict(X_test)\n",
    "print(\"Rapport de classification:\\n\", classification_report(y_test, y_pred))\n",
    "print(\"Matrice de confusion:\\n\", confusion_matrix(y_test, y_pred))\n",
    "print(\"Score d'accuracy : {:.2f}\".format(accuracy_score(y_test, y_pred)))\n"
   ]
  },
  {
   "cell_type": "markdown",
   "id": "60208061",
   "metadata": {},
   "source": [
    "## Mise à l'Échelle et Améliorations"
   ]
  },
  {
   "cell_type": "code",
   "execution_count": 54,
   "id": "9c4f8959",
   "metadata": {},
   "outputs": [
    {
     "name": "stdout",
     "output_type": "stream",
     "text": [
      "Rapport de classification (après scaling):\n",
      "               precision    recall  f1-score   support\n",
      "\n",
      "           0       0.79      0.89      0.84       100\n",
      "           1       0.83      0.71      0.76        78\n",
      "\n",
      "    accuracy                           0.81       178\n",
      "   macro avg       0.81      0.80      0.80       178\n",
      "weighted avg       0.81      0.81      0.81       178\n",
      "\n",
      "Score d'accuracy (après scaling) : 0.81\n"
     ]
    }
   ],
   "source": [
    "\n",
    "# Mise à l'échelle des données\n",
    "scaler = StandardScaler()\n",
    "X_train_scaled = scaler.fit_transform(X_train)\n",
    "X_test_scaled = scaler.transform(X_test)\n",
    "\n",
    "# Réentraîner le modèle avec les données mises à l'échelle\n",
    "model_scaled = RandomForestClassifier(n_estimators=100, max_depth=5, random_state=42)\n",
    "model_scaled.fit(X_train_scaled, y_train)\n",
    "y_pred_scaled = model_scaled.predict(X_test_scaled)\n",
    "\n",
    "# Évaluation des performances après mise à l'échelle\n",
    "print(\"Rapport de classification (après scaling):\\n\", classification_report(y_test, y_pred_scaled))\n",
    "print(\"Score d'accuracy (après scaling) : {:.2f}\".format(accuracy_score(y_test, y_pred_scaled)))\n"
   ]
  },
  {
   "cell_type": "markdown",
   "id": "e18c9dc5",
   "metadata": {},
   "source": [
    "\n",
    "## Conclusion\n",
    "- Nous avons exploré et analysé le dataset Titanic, mis en lumière des relations importantes comme le lien entre le genre, la classe, et le taux de survie.\n",
    "- Une forêt aléatoire a été utilisée pour prédire la survie des passagers avec une précision correcte.\n",
    "- La mise à l'échelle des données a permis d'améliorer les performances.\n",
    "\n",
    "### Suggestions d'améliorations\n",
    "- Tester d'autres algorithmes (SVM, Gradient Boosting).\n",
    "- Inclure plus de variables dérivées (par exemple, famille à bord, titre du passager).\n",
    "- Optimiser les hyperparamètres du modèle pour de meilleurs résultats.\n"
   ]
  },
  {
   "cell_type": "code",
   "execution_count": null,
   "id": "e5647ed4-4176-4f7f-b08d-231425ebed67",
   "metadata": {},
   "outputs": [],
   "source": []
  },
  {
   "cell_type": "code",
   "execution_count": null,
   "id": "c130d98d-992a-4b37-a59c-f0dced5a9eac",
   "metadata": {},
   "outputs": [],
   "source": []
  },
  {
   "cell_type": "code",
   "execution_count": null,
   "id": "2f852bed-4b09-40c3-a225-857ca504429a",
   "metadata": {},
   "outputs": [],
   "source": []
  },
  {
   "cell_type": "code",
   "execution_count": null,
   "id": "3c7ce720-74de-45cb-ac36-f1241a5429dd",
   "metadata": {},
   "outputs": [],
   "source": []
  }
 ],
 "metadata": {
  "kernelspec": {
   "display_name": "Python 3 (ipykernel)",
   "language": "python",
   "name": "python3"
  },
  "language_info": {
   "codemirror_mode": {
    "name": "ipython",
    "version": 3
   },
   "file_extension": ".py",
   "mimetype": "text/x-python",
   "name": "python",
   "nbconvert_exporter": "python",
   "pygments_lexer": "ipython3",
   "version": "3.12.6"
  }
 },
 "nbformat": 4,
 "nbformat_minor": 5
}
