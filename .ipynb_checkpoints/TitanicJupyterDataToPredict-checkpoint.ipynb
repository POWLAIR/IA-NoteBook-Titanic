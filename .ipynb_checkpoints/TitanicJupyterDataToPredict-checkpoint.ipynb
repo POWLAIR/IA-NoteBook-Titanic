{
 "cells": [
  {
   "cell_type": "markdown",
   "id": "54dcf0c3",
   "metadata": {},
   "source": [
    "### Preprocessed Titanic Data\n",
    "This notebook contains the preprocessed Titanic data ready for prediction."
   ]
  },
  {
   "cell_type": "code",
   "execution_count": 21,
   "id": "91c85a29-a88e-4e66-93b8-0b0b9d17cea0",
   "metadata": {},
   "outputs": [],
   "source": [
    "import pandas as pd\n",
    "import pickle\n",
    "from sklearn.preprocessing import LabelEncoder, StandardScaler\n"
   ]
  },
  {
   "cell_type": "code",
   "execution_count": 37,
   "id": "4ed07460-7f8f-42d6-92ec-3f2016495990",
   "metadata": {},
   "outputs": [
    {
     "name": "stdout",
     "output_type": "stream",
     "text": [
      "Modèle chargé avec succès depuis : TitanicJupiter_Model.pkl\n"
     ]
    }
   ],
   "source": [
    "# Charger le modèle enregistré\n",
    "model_path = \"model/TitanicJupiter_Model.pkl\"\n",
    "columns_fit_path = \"model/columns_fit.pkl\"\n",
    "try:\n",
    "    with open(model_path, 'rb') as f:\n",
    "        model = pickle.load(f)\n",
    "    print(f\"Modèle chargé avec succès depuis : {model_path}\")\n",
    "except FileNotFoundError:\n",
    "    print(f\"Erreur : Le fichier de modèle '{model_path}' est introuvable.\")\n",
    "    model = None\n",
    "    "
   ]
  },
  {
   "cell_type": "code",
   "execution_count": 38,
   "id": "0c7585bb-20ae-4207-8bad-cd113da88a03",
   "metadata": {},
   "outputs": [
    {
     "name": "stdout",
     "output_type": "stream",
     "text": [
      "Colonnes chargées avec succès depuis : columns_fit.pkl\n"
     ]
    }
   ],
   "source": [
    "# Charger les colonnes attendues par le modèle\n",
    "try:\n",
    "    with open(columns_fit_path, 'rb') as f:\n",
    "        columns_fit = pickle.load(f)\n",
    "    print(f\"Colonnes chargées avec succès depuis : {columns_fit_path}\")\n",
    "except FileNotFoundError:\n",
    "    print(f\"Erreur : Le fichier des colonnes '{columns_fit_path}' est introuvable.\")\n",
    "    columns_fit = None\n"
   ]
  },
  {
   "cell_type": "code",
   "execution_count": 39,
   "id": "8479e655-4e84-4edd-a785-88e693b45177",
   "metadata": {},
   "outputs": [],
   "source": [
    "def preprocess_data(data):\n",
    "    \"\"\"\n",
    "    Prétraitement des données pour correspondre au modèle :\n",
    "    - Remplacement des valeurs manquantes\n",
    "    - Encodage des variables catégoriques\n",
    "    - Création de variables fictives\n",
    "    - Alignement des colonnes sur celles attendues par le modèle\n",
    "    \"\"\"\n",
    "    if columns_fit is None:\n",
    "        raise ValueError(\"Les colonnes attendues par le modèle ne sont pas définies.\")\n",
    "\n",
    "    # Gestion des valeurs manquantes\n",
    "    data['Age'] = data['Age'].fillna(data['Age'].median())\n",
    "    data['Embarked'] = data['Embarked'].fillna(data['Embarked'].mode()[0])\n",
    "    data = data.fillna(0)\n",
    "\n",
    "    # Encodage de la colonne 'Sex'\n",
    "    if 'Sex' in data.columns:\n",
    "        label_encoder = LabelEncoder()\n",
    "        data['Sex'] = label_encoder.fit_transform(data['Sex'])\n",
    "\n",
    "    # Transformation de la colonne 'Embarked'\n",
    "    if 'Embarked' in data.columns:\n",
    "        data = pd.get_dummies(data, columns=['Embarked'], drop_first=True)\n",
    "\n",
    "    # Ajout des colonnes manquantes et suppression des colonnes inattendues\n",
    "    for col in columns_fit:\n",
    "        if col not in data.columns:\n",
    "            data[col] = 0\n",
    "\n",
    "    data = data[columns_fit]  # S'assurer que les colonnes sont dans le bon ordre\n",
    "\n",
    "    # Mise à l'échelle des données (exclure PassengerId et Unnamed: 0)\n",
    "    scaler = StandardScaler()\n",
    "    cols_to_scale = [col for col in data.columns if col not in ['PassengerId', 'Unnamed: 0']]\n",
    "    data[cols_to_scale] = scaler.fit_transform(data[cols_to_scale])\n",
    "\n",
    "    return data\n"
   ]
  },
  {
   "cell_type": "code",
   "execution_count": 41,
   "id": "2d6fe037-def2-4e93-a27d-03403887f665",
   "metadata": {},
   "outputs": [
    {
     "name": "stdout",
     "output_type": "stream",
     "text": [
      "Données à prédire chargées depuis : data/data_to_predict.csv\n"
     ]
    }
   ],
   "source": [
    "# Charger les données à prédire\n",
    "try:\n",
    "    data_path = \"data/data_to_predict.csv\"  # Chemin du fichier contenant les données à prédire\n",
    "    data_to_predict = pd.read_csv(data_path)\n",
    "    print(f\"Données à prédire chargées depuis : {data_path}\")\n",
    "except FileNotFoundError:\n",
    "    print(f\"Erreur : Le fichier de données '{data_path}' est introuvable.\")\n",
    "    data_to_predict = None\n",
    "    "
   ]
  },
  {
   "cell_type": "code",
   "execution_count": 42,
   "id": "d7b7bbd1-cce3-4fd8-88ec-64062ae0722a",
   "metadata": {},
   "outputs": [
    {
     "name": "stdout",
     "output_type": "stream",
     "text": [
      "Prédictions enregistrées dans : predicted_results.csv\n"
     ]
    }
   ],
   "source": [
    "# Appliquer le prétraitement et faire des prédictions\n",
    "if data_to_predict is not None and model is not None and columns_fit is not None:\n",
    "    # Prétraiter les données\n",
    "    data_preprocessed = preprocess_data(data_to_predict)\n",
    "\n",
    "    # Faire des prédictions sans exclure de colonnes\n",
    "    predictions = model.predict(data_preprocessed)\n",
    "\n",
    "    # Ajouter les prédictions au DataFrame original\n",
    "    data_to_predict['Survived_Predicted'] = predictions\n",
    "\n",
    "    # Enregistrer les résultats dans un nouveau fichier\n",
    "    output_path = \"predicted_results.csv\"\n",
    "    data_to_predict.to_csv(output_path, index=False)\n",
    "    print(f\"Prédictions enregistrées dans : {output_path}\")\n",
    "else:\n",
    "    print(\"Prédictions impossibles : vérifiez les données, le modèle ou les colonnes.\")\n"
   ]
  }
 ],
 "metadata": {
  "kernelspec": {
   "display_name": "Python 3 (ipykernel)",
   "language": "python",
   "name": "python3"
  },
  "language_info": {
   "codemirror_mode": {
    "name": "ipython",
    "version": 3
   },
   "file_extension": ".py",
   "mimetype": "text/x-python",
   "name": "python",
   "nbconvert_exporter": "python",
   "pygments_lexer": "ipython3",
   "version": "3.12.0"
  }
 },
 "nbformat": 4,
 "nbformat_minor": 5
}
